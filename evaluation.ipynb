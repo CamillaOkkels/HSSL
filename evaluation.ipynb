{
 "cells": [
  {
   "cell_type": "code",
   "execution_count": 2,
   "id": "0463c425",
   "metadata": {},
   "outputs": [],
   "source": [
    "import pandas as pd\n",
    "from HSSL import *\n",
    "from sklearn.metrics import adjusted_rand_score, normalized_mutual_info_score"
   ]
  },
  {
   "cell_type": "code",
   "execution_count": 3,
   "id": "d84026b5",
   "metadata": {},
   "outputs": [],
   "source": [
    "def find_cut(dendrogram):\n",
    "\n",
    "    distances = [d[2] for d in dendrogram]\n",
    "    distances.sort(reverse=True)\n",
    "    \n",
    "    max_jump = 0\n",
    "    for i in range(len(distances) - 1):\n",
    "        d = distances[i] - distances[i + 1]\n",
    "\n",
    "        if d > max_jump:\n",
    "            max_jump = d\n",
    "            index = i\n",
    "    \n",
    "    return index + 1"
   ]
  },
  {
   "cell_type": "code",
   "execution_count": 4,
   "id": "9fdc4ad0",
   "metadata": {},
   "outputs": [],
   "source": [
    "def get_clustering_from_dendrogram(dendrogram, k, min_cluster_size=1):\n",
    "    # roundup_fix_dendrogram(dendrogram)\n",
    "    N = len(dendrogram) + 1\n",
    "    clustering = -np.ones(N+len(dendrogram), dtype=int)\n",
    "    merge_distance_order = np.argsort([v[2] for v in dendrogram], kind=\"stable\")\n",
    "    final_clusters = set([2*N-2])\n",
    "    i = len(merge_distance_order)-1\n",
    "    while len(final_clusters) < k:\n",
    "        final_clusters.remove(N+i)\n",
    "        l,r = dendrogram[merge_distance_order[i]][:2]\n",
    "        l_size = 1 if l<N else dendrogram[l-N][3]\n",
    "        r_size = 1 if r<N else dendrogram[r-N][3]\n",
    "        if l_size >= min_cluster_size: final_clusters.add(l)\n",
    "        if r_size >= min_cluster_size: final_clusters.add(r)\n",
    "        i -= 1\n",
    "    final_clusters = np.sort([*final_clusters])\n",
    "    for i,c in enumerate(final_clusters): clustering[c] = i\n",
    "    for merged_index_diff, (cluster_i, cluster_j, _, _) in enumerate(reversed(dendrogram)):\n",
    "        merged_index = N + len(dendrogram) - merged_index_diff - 1\n",
    "        if merged_index > final_clusters[-1]: continue\n",
    "        clustering[[cluster_i, cluster_j]] = clustering[merged_index]\n",
    "    return clustering[:N]\n",
    "# clustering = get_clustering_from_dendrogram(dendrogram, 5, 5)\n",
    "# print(np.unique(clustering, return_counts=True))\n",
    "# clustering"
   ]
  },
  {
   "cell_type": "code",
   "execution_count": 5,
   "id": "6a125777",
   "metadata": {},
   "outputs": [],
   "source": [
    "def ARI_score(path1, path2):\n",
    "        with h5py.File(path1, \"r\") as f:\n",
    "                dendro1 = f['dendrogram_data'][:]\n",
    "        dendro1 = [[int(l), int(r), float(d), int(s)] for l, r, d, s in dendro1]\n",
    "\n",
    "        dendro1 = elki_sort_dendrogram(dendro1)\n",
    "        k = find_cut(dendro1)\n",
    "        print(k)\n",
    "        C1 = get_clustering_from_dendrogram(dendro1, k)\n",
    "\n",
    "        with h5py.File(path2, \"r\") as f:\n",
    "                dendro2 = f['dendrogram_data'][:]\n",
    "        dendro2 = [[int(l), int(r), float(d), int(s)] for l, r, d, s in dendro2]\n",
    "\n",
    "        dendro2 = elki_sort_dendrogram(dendro2)\n",
    "        C2 = get_clustering_from_dendrogram(dendro2, k)\n",
    "\n",
    "        # len([v for v in C if v == 3])\n",
    "\n",
    "        return adjusted_rand_score(C1, C2)"
   ]
  },
  {
   "cell_type": "code",
   "execution_count": 6,
   "id": "b83e9b6c",
   "metadata": {},
   "outputs": [
    {
     "name": "stdout",
     "output_type": "stream",
     "text": [
      "5\n"
     ]
    },
    {
     "data": {
      "text/plain": [
       "0.782488191995628"
      ]
     },
     "execution_count": 6,
     "metadata": {},
     "output_type": "execute_result"
    }
   ],
   "source": [
    "p1 = 'results/blobs_n=8000_centers=5/HNSW_HSSL/dendro.hdf5'\n",
    "p2 = 'results/blobs_n=8000_centers=5/HSSL_Turbo/dendro.hdf5'\n",
    "\n",
    "ARI_score(p1, p2)"
   ]
  },
  {
   "cell_type": "code",
   "execution_count": 7,
   "id": "85f7c9cb",
   "metadata": {},
   "outputs": [],
   "source": [
    "import traceback\n",
    "import os\n",
    "from typing import Any, Optional, Set, Tuple, Iterator\n",
    "\n",
    "def build_result_filepath(dataset_name: Optional[str] = None, \n",
    "                          eps: Optional[float] = None,\n",
    "                          minPts: Optional[int] = None,\n",
    "                          algorithm: Optional[any] = None,\n",
    "                          arguments: Optional[Any] = None) -> str:\n",
    "    d = [\"results\"]\n",
    "    if dataset_name:\n",
    "        d.append(dataset_name)\n",
    "    if eps:\n",
    "        d.append(str(eps))\n",
    "    if minPts:\n",
    "        d.append(str(minPts))\n",
    "    if algorithm:\n",
    "        d.append(algorithm)\n",
    "        #data = definition.arguments + query_arguments\n",
    "        #d.append(re.sub(r\"\\W+\", \"_\", json.dumps(data, sort_keys=True)).strip(\"_\") + \".hdf5\")\n",
    "        if arguments:\n",
    "            d.append(arguments+\".hdf5\")\n",
    "        else:\n",
    "            d.append(\"run.hdf5\")\n",
    "    return os.path.join(*d)\n",
    "\n",
    "def load_all_results(dataset: Optional[str] = None, prefix: str = \".\") -> Iterator[Tuple[h5py.File]]:\n",
    "    for root, _, files in os.walk(os.path.join(prefix, build_result_filepath(dataset))):\n",
    "        for filename in files:\n",
    "            if os.path.splitext(filename)[-1] != \".hdf5\":\n",
    "                continue\n",
    "            try:\n",
    "                with h5py.File(os.path.join(root, filename), \"r+\") as f:\n",
    "                    yield f\n",
    "            except Exception:\n",
    "                print(f\"Was unable to read {filename}\")\n",
    "                traceback.print_exc()"
   ]
  },
  {
   "cell_type": "code",
   "execution_count": 8,
   "id": "8614372b",
   "metadata": {},
   "outputs": [
    {
     "data": {
      "text/html": [
       "<div>\n",
       "<style scoped>\n",
       "    .dataframe tbody tr th:only-of-type {\n",
       "        vertical-align: middle;\n",
       "    }\n",
       "\n",
       "    .dataframe tbody tr th {\n",
       "        vertical-align: top;\n",
       "    }\n",
       "\n",
       "    .dataframe thead th {\n",
       "        text-align: right;\n",
       "    }\n",
       "</style>\n",
       "<table border=\"1\" class=\"dataframe\">\n",
       "  <thead>\n",
       "    <tr style=\"text-align: right;\">\n",
       "      <th></th>\n",
       "      <th>algo</th>\n",
       "      <th>time</th>\n",
       "      <th>n</th>\n",
       "    </tr>\n",
       "  </thead>\n",
       "  <tbody>\n",
       "    <tr>\n",
       "      <th>0</th>\n",
       "      <td>HNSW_HSSL</td>\n",
       "      <td>10.676596</td>\n",
       "      <td>2000</td>\n",
       "    </tr>\n",
       "    <tr>\n",
       "      <th>1</th>\n",
       "      <td>HSSL_Turbo</td>\n",
       "      <td>12.538417</td>\n",
       "      <td>2000</td>\n",
       "    </tr>\n",
       "    <tr>\n",
       "      <th>2</th>\n",
       "      <td>HNSW_HSSL</td>\n",
       "      <td>27.851802</td>\n",
       "      <td>4000</td>\n",
       "    </tr>\n",
       "    <tr>\n",
       "      <th>3</th>\n",
       "      <td>HSSL_Turbo</td>\n",
       "      <td>42.013325</td>\n",
       "      <td>4000</td>\n",
       "    </tr>\n",
       "    <tr>\n",
       "      <th>4</th>\n",
       "      <td>HNSW_HSSL</td>\n",
       "      <td>65.565953</td>\n",
       "      <td>8000</td>\n",
       "    </tr>\n",
       "    <tr>\n",
       "      <th>5</th>\n",
       "      <td>HSSL_Turbo</td>\n",
       "      <td>166.924440</td>\n",
       "      <td>8000</td>\n",
       "    </tr>\n",
       "    <tr>\n",
       "      <th>6</th>\n",
       "      <td>HNSW_HSSL</td>\n",
       "      <td>167.496854</td>\n",
       "      <td>16000</td>\n",
       "    </tr>\n",
       "    <tr>\n",
       "      <th>7</th>\n",
       "      <td>HSSL_Turbo</td>\n",
       "      <td>751.138710</td>\n",
       "      <td>16000</td>\n",
       "    </tr>\n",
       "    <tr>\n",
       "      <th>8</th>\n",
       "      <td>HNSW_HSSL</td>\n",
       "      <td>465.742020</td>\n",
       "      <td>32000</td>\n",
       "    </tr>\n",
       "    <tr>\n",
       "      <th>9</th>\n",
       "      <td>HSSL_Turbo</td>\n",
       "      <td>3802.269429</td>\n",
       "      <td>32000</td>\n",
       "    </tr>\n",
       "    <tr>\n",
       "      <th>10</th>\n",
       "      <td>HNSW_HSSL</td>\n",
       "      <td>961.165859</td>\n",
       "      <td>64000</td>\n",
       "    </tr>\n",
       "    <tr>\n",
       "      <th>11</th>\n",
       "      <td>HNSW_HSSL</td>\n",
       "      <td>4742.412334</td>\n",
       "      <td>128000</td>\n",
       "    </tr>\n",
       "  </tbody>\n",
       "</table>\n",
       "</div>"
      ],
      "text/plain": [
       "          algo         time       n\n",
       "0    HNSW_HSSL    10.676596    2000\n",
       "1   HSSL_Turbo    12.538417    2000\n",
       "2    HNSW_HSSL    27.851802    4000\n",
       "3   HSSL_Turbo    42.013325    4000\n",
       "4    HNSW_HSSL    65.565953    8000\n",
       "5   HSSL_Turbo   166.924440    8000\n",
       "6    HNSW_HSSL   167.496854   16000\n",
       "7   HSSL_Turbo   751.138710   16000\n",
       "8    HNSW_HSSL   465.742020   32000\n",
       "9   HSSL_Turbo  3802.269429   32000\n",
       "10   HNSW_HSSL   961.165859   64000\n",
       "11   HNSW_HSSL  4742.412334  128000"
      ]
     },
     "execution_count": 8,
     "metadata": {},
     "output_type": "execute_result"
    }
   ],
   "source": [
    "datasets = ['blobs_n=2000_centers=5',\n",
    "            'blobs_n=4000_centers=5',\n",
    "            'blobs_n=8000_centers=5',\n",
    "            'blobs_n=16000_centers=5',\n",
    "            'blobs_n=32000_centers=5',\n",
    "            'blobs_n=64000_centers=5',\n",
    "            'blobs_n=128000_centers=5',\n",
    "            # 'cancer', \n",
    "            # 'iris', \n",
    "            # 'wine',\n",
    "            # 'mnist'\n",
    "            ]\n",
    "\n",
    "data = []\n",
    "\n",
    "# load all the results that are available for the dataset\n",
    "for S in datasets:\n",
    "    for f in load_all_results(S, \"\"):\n",
    "        data.append({\n",
    "            \"algo\": f['algo'][0].decode(), \n",
    "            \"time\": f['time'][0], \n",
    "            \"n\": f['n'][0]\n",
    "            })\n",
    "\n",
    "df = pd.DataFrame(data=data)\n",
    "df"
   ]
  },
  {
   "cell_type": "code",
   "execution_count": null,
   "id": "831ebd8b",
   "metadata": {},
   "outputs": [
    {
     "data": {
      "image/png": "[encoded data removed]",
      "text/plain": [
       "<Figure size 640x480 with 1 Axes>"
      ]
     },
     "metadata": {},
     "output_type": "display_data"
    }
   ],
   "source": [
    "import seaborn as sns\n",
    "from scipy.stats import linregress\n",
    "from scipy.optimize import minimize\n",
    "\n",
    "plot_df = df.copy()\n",
    "fit_xs = df[df[\"algo\"]==\"HSSL_Turbo\"][\"n\"].to_numpy()\n",
    "fit_ys = df[df[\"algo\"]==\"HSSL_Turbo\"][\"time\"].to_numpy()\n",
    "sel = np.argsort(fit_xs)[:]\n",
    "fit_model = linregress(np.log(fit_xs[sel]),np.log(fit_ys[sel]))\n",
    "plot_df = pd.concat([plot_df, pd.DataFrame([\n",
    "    [f\"HSSL_Turbo_fit (t(n)=c*n^{fit_model.slope:.2f})\", x**fit_model.slope * np.exp(fit_model.intercept), x]\n",
    "    for x in fit_xs\n",
    "], columns=plot_df.columns)], axis=0)\n",
    "\n",
    "def poly_log_fit(x, params):\n",
    "    a, b, c = params\n",
    "    return a*x**b*np.log(x)**c\n",
    "def poly_log_fit_opt(x,y):\n",
    "    def target(params):\n",
    "        return np.sum(np.square(np.log(poly_log_fit(x,params))-np.log(y)))\n",
    "    result = minimize(target, np.array([y[0]/x[0],1,0]), bounds=[\n",
    "        (1e-20, 1e2*y[0]/x[0]),\n",
    "        (1, 3),\n",
    "        (0, 4)\n",
    "    ])\n",
    "    return result.x, result.fun\n",
    "fit_xs = df[df[\"algo\"]==\"HNSW_HSSL\"][\"n\"].to_numpy()\n",
    "fit_ys = df[df[\"algo\"]==\"HNSW_HSSL\"][\"time\"].to_numpy()\n",
    "sel = np.argsort(fit_xs)[:]\n",
    "model_params, score = poly_log_fit_opt(fit_xs[sel], fit_ys[sel])\n",
    "# print(model_params, score)\n",
    "plot_df = pd.concat([plot_df, pd.DataFrame([\n",
    "    [f\"HNSW_HSSL_fit (t(n)=c*n^{model_params[1]:.2f}*log(n)^{model_params[2]:.2f})\", poly_log_fit(x, model_params), x]\n",
    "    for x in fit_xs\n",
    "], columns=plot_df.columns)], axis=0)\n",
    "\n",
    "\n",
    "ax = sns.lineplot(data=plot_df, x='n', y='time', hue=\"algo\", marker='o', palette=\"colorblind\")\n",
    "ax.set_title('Blobs dataset')\n",
    "ax.set_xlabel('dataset size (n)')\n",
    "ax.set_ylabel('time [s]')\n",
    "ax.set_xscale(\"log\")\n",
    "ax.set_yscale(\"log\")\n",
    "\n",
    "# Set gridlines and ticks\n",
    "# x_log_min = np.log10(min(times['eps']))\n",
    "# x_log_max = np.log10(max(times['eps']))\n",
    "# xticks = np.logspace(x_log_min, x_log_max, num = 7)\n",
    "# xticks = [round(x, 1) for x in xticks]\n",
    "# y_log_min = np.log10(min(times['time']))\n",
    "# y_log_max = np.log10(max(times['time']))\n",
    "# yticks = np.logspace(y_log_min, y_log_max, num = 5)\n",
    "# yticks = [int(x) for x in yticks]\n",
    "# ax.set_xticks(xticks)\n",
    "# ax.set_xticklabels(xticks)\n",
    "# ax.set_yticks(yticks)\n",
    "# ax.set_yticklabels(yticks)"
   ]
  },
  {
   "cell_type": "code",
   "execution_count": 10,
   "id": "3e34a962",
   "metadata": {},
   "outputs": [],
   "source": [
    "dataset = ['wine', 'iris']\n",
    "\n",
    "# load all the results that are available for the dataset\n",
    "for S in dataset:\n",
    "    for f in load_all_results(S, \"\"):\n",
    "        print(f.keys())"
   ]
  },
  {
   "cell_type": "code",
   "execution_count": 22,
   "id": "41e28372",
   "metadata": {},
   "outputs": [
    {
     "name": "stdout",
     "output_type": "stream",
     "text": [
      "['children']\n"
     ]
    },
    {
     "data": {
      "text/plain": [
       "array([1997, 1995])"
      ]
     },
     "execution_count": 22,
     "metadata": {},
     "output_type": "execute_result"
    }
   ],
   "source": [
    "path = 'results/blobs-1k-5/sklearn/run.hdf5'\n",
    "# path = 'results/iris/HSSL_Turbo/dendro.hdf5'\n",
    "\n",
    "with h5py.File(path, 'r') as f:\n",
    "    print(list(f.keys()))\n",
    "    C = f['children'][:]\n",
    "\n",
    "C[998]"
   ]
  },
  {
   "cell_type": "code",
   "execution_count": 39,
   "id": "cc8089be",
   "metadata": {},
   "outputs": [
    {
     "ename": "FileNotFoundError",
     "evalue": "[Errno 2] Unable to open file (unable to open file: name = '\\data\\blobs-2k-10-5.hdf5', errno = 2, error message = 'No such file or directory', flags = 0, o_flags = 0)",
     "output_type": "error",
     "traceback": [
      "\u001b[1;31m---------------------------------------------------------------------------\u001b[0m",
      "\u001b[1;31mFileNotFoundError\u001b[0m                         Traceback (most recent call last)",
      "Cell \u001b[1;32mIn[39], line 3\u001b[0m\n\u001b[0;32m      1\u001b[0m path \u001b[38;5;241m=\u001b[39m \u001b[38;5;124mr\u001b[39m\u001b[38;5;124m'\u001b[39m\u001b[38;5;124m\\\u001b[39m\u001b[38;5;124mdata\u001b[39m\u001b[38;5;124m\\\u001b[39m\u001b[38;5;124mblobs-2k-10-5.hdf5\u001b[39m\u001b[38;5;124m'\u001b[39m\n\u001b[1;32m----> 3\u001b[0m \u001b[38;5;28;01mwith\u001b[39;00m h5py\u001b[38;5;241m.\u001b[39mFile(path, \u001b[38;5;124m'\u001b[39m\u001b[38;5;124mr\u001b[39m\u001b[38;5;124m'\u001b[39m) \u001b[38;5;28;01mas\u001b[39;00m f:\n\u001b[0;32m      4\u001b[0m     \u001b[38;5;28mprint\u001b[39m(\u001b[38;5;28mlist\u001b[39m(f\u001b[38;5;241m.\u001b[39mkeys()))\n\u001b[0;32m      5\u001b[0m     \u001b[38;5;28mprint\u001b[39m(\u001b[38;5;28mlen\u001b[39m(f[\u001b[38;5;124m'\u001b[39m\u001b[38;5;124mchildren\u001b[39m\u001b[38;5;124m'\u001b[39m][:]))\n",
      "File \u001b[1;32mc:\\Users\\cabi\\Anaconda3\\envs\\HSSL\\Lib\\site-packages\\h5py\\_hl\\files.py:567\u001b[0m, in \u001b[0;36mFile.__init__\u001b[1;34m(self, name, mode, driver, libver, userblock_size, swmr, rdcc_nslots, rdcc_nbytes, rdcc_w0, track_order, fs_strategy, fs_persist, fs_threshold, fs_page_size, page_buf_size, min_meta_keep, min_raw_keep, locking, alignment_threshold, alignment_interval, meta_block_size, **kwds)\u001b[0m\n\u001b[0;32m    558\u001b[0m     fapl \u001b[38;5;241m=\u001b[39m make_fapl(driver, libver, rdcc_nslots, rdcc_nbytes, rdcc_w0,\n\u001b[0;32m    559\u001b[0m                      locking, page_buf_size, min_meta_keep, min_raw_keep,\n\u001b[0;32m    560\u001b[0m                      alignment_threshold\u001b[38;5;241m=\u001b[39malignment_threshold,\n\u001b[0;32m    561\u001b[0m                      alignment_interval\u001b[38;5;241m=\u001b[39malignment_interval,\n\u001b[0;32m    562\u001b[0m                      meta_block_size\u001b[38;5;241m=\u001b[39mmeta_block_size,\n\u001b[0;32m    563\u001b[0m                      \u001b[38;5;241m*\u001b[39m\u001b[38;5;241m*\u001b[39mkwds)\n\u001b[0;32m    564\u001b[0m     fcpl \u001b[38;5;241m=\u001b[39m make_fcpl(track_order\u001b[38;5;241m=\u001b[39mtrack_order, fs_strategy\u001b[38;5;241m=\u001b[39mfs_strategy,\n\u001b[0;32m    565\u001b[0m                      fs_persist\u001b[38;5;241m=\u001b[39mfs_persist, fs_threshold\u001b[38;5;241m=\u001b[39mfs_threshold,\n\u001b[0;32m    566\u001b[0m                      fs_page_size\u001b[38;5;241m=\u001b[39mfs_page_size)\n\u001b[1;32m--> 567\u001b[0m     fid \u001b[38;5;241m=\u001b[39m make_fid(name, mode, userblock_size, fapl, fcpl, swmr\u001b[38;5;241m=\u001b[39mswmr)\n\u001b[0;32m    569\u001b[0m \u001b[38;5;28;01mif\u001b[39;00m \u001b[38;5;28misinstance\u001b[39m(libver, \u001b[38;5;28mtuple\u001b[39m):\n\u001b[0;32m    570\u001b[0m     \u001b[38;5;28mself\u001b[39m\u001b[38;5;241m.\u001b[39m_libver \u001b[38;5;241m=\u001b[39m libver\n",
      "File \u001b[1;32mc:\\Users\\cabi\\Anaconda3\\envs\\HSSL\\Lib\\site-packages\\h5py\\_hl\\files.py:231\u001b[0m, in \u001b[0;36mmake_fid\u001b[1;34m(name, mode, userblock_size, fapl, fcpl, swmr)\u001b[0m\n\u001b[0;32m    229\u001b[0m     \u001b[38;5;28;01mif\u001b[39;00m swmr \u001b[38;5;129;01mand\u001b[39;00m swmr_support:\n\u001b[0;32m    230\u001b[0m         flags \u001b[38;5;241m|\u001b[39m\u001b[38;5;241m=\u001b[39m h5f\u001b[38;5;241m.\u001b[39mACC_SWMR_READ\n\u001b[1;32m--> 231\u001b[0m     fid \u001b[38;5;241m=\u001b[39m h5f\u001b[38;5;241m.\u001b[39mopen(name, flags, fapl\u001b[38;5;241m=\u001b[39mfapl)\n\u001b[0;32m    232\u001b[0m \u001b[38;5;28;01melif\u001b[39;00m mode \u001b[38;5;241m==\u001b[39m \u001b[38;5;124m'\u001b[39m\u001b[38;5;124mr+\u001b[39m\u001b[38;5;124m'\u001b[39m:\n\u001b[0;32m    233\u001b[0m     fid \u001b[38;5;241m=\u001b[39m h5f\u001b[38;5;241m.\u001b[39mopen(name, h5f\u001b[38;5;241m.\u001b[39mACC_RDWR, fapl\u001b[38;5;241m=\u001b[39mfapl)\n",
      "File \u001b[1;32mh5py\\_objects.pyx:54\u001b[0m, in \u001b[0;36mh5py._objects.with_phil.wrapper\u001b[1;34m()\u001b[0m\n",
      "File \u001b[1;32mh5py\\_objects.pyx:55\u001b[0m, in \u001b[0;36mh5py._objects.with_phil.wrapper\u001b[1;34m()\u001b[0m\n",
      "File \u001b[1;32mh5py\\h5f.pyx:106\u001b[0m, in \u001b[0;36mh5py.h5f.open\u001b[1;34m()\u001b[0m\n",
      "\u001b[1;31mFileNotFoundError\u001b[0m: [Errno 2] Unable to open file (unable to open file: name = '\\data\\blobs-2k-10-5.hdf5', errno = 2, error message = 'No such file or directory', flags = 0, o_flags = 0)"
     ]
    }
   ],
   "source": [
    "path = r'\\data\\blobs-2k-10-5.hdf5'\n",
    "\n",
    "with h5py.File(path, 'r') as f:\n",
    "    print(list(f.keys()))\n",
    "    print(len(f['children'][:]))"
   ]
  }
 ],
 "metadata": {
  "kernelspec": {
   "display_name": "HSSL",
   "language": "python",
   "name": "python3"
  },
  "language_info": {
   "codemirror_mode": {
    "name": "ipython",
    "version": 3
   },
   "file_extension": ".py",
   "mimetype": "text/x-python",
   "name": "python",
   "nbconvert_exporter": "python",
   "pygments_lexer": "ipython3",
   "version": "3.11.11"
  }
 },
 "nbformat": 4,
 "nbformat_minor": 5
}
