{
 "cells": [
  {
   "cell_type": "code",
   "execution_count": 2,
   "id": "0463c425",
   "metadata": {},
   "outputs": [],
   "source": [
    "import pandas as pd\n",
    "from HSSL import *\n",
    "from sklearn.metrics import adjusted_rand_score, normalized_mutual_info_score"
   ]
  },
  {
   "cell_type": "code",
   "execution_count": 3,
   "id": "d84026b5",
   "metadata": {},
   "outputs": [],
   "source": [
    "def find_cut(dendrogram):\n",
    "\n",
    "    distances = [d[2] for d in dendrogram]\n",
    "    distances.sort(reverse=True)\n",
    "    \n",
    "    max_jump = 0\n",
    "    for i in range(len(distances) - 1):\n",
    "        d = distances[i] - distances[i + 1]\n",
    "\n",
    "        if d > max_jump:\n",
    "            max_jump = d\n",
    "            index = i\n",
    "    \n",
    "    return index + 1"
   ]
  },
  {
   "cell_type": "code",
   "execution_count": 4,
   "id": "9fdc4ad0",
   "metadata": {},
   "outputs": [],
   "source": [
    "def get_clustering_from_dendrogram(dendrogram, k, min_cluster_size=1):\n",
    "    # roundup_fix_dendrogram(dendrogram)\n",
    "    N = len(dendrogram) + 1\n",
    "    clustering = -np.ones(N+len(dendrogram), dtype=int)\n",
    "    merge_distance_order = np.argsort([v[2] for v in dendrogram], kind=\"stable\")\n",
    "    final_clusters = set([2*N-2])\n",
    "    i = len(merge_distance_order)-1\n",
    "    while len(final_clusters) < k:\n",
    "        final_clusters.remove(N+i)\n",
    "        l,r = dendrogram[merge_distance_order[i]][:2]\n",
    "        l_size = 1 if l<N else dendrogram[l-N][3]\n",
    "        r_size = 1 if r<N else dendrogram[r-N][3]\n",
    "        if l_size >= min_cluster_size: final_clusters.add(l)\n",
    "        if r_size >= min_cluster_size: final_clusters.add(r)\n",
    "        i -= 1\n",
    "    final_clusters = np.sort([*final_clusters])\n",
    "    for i,c in enumerate(final_clusters): clustering[c] = i\n",
    "    for merged_index_diff, (cluster_i, cluster_j, _, _) in enumerate(reversed(dendrogram)):\n",
    "        merged_index = N + len(dendrogram) - merged_index_diff - 1\n",
    "        if merged_index > final_clusters[-1]: continue\n",
    "        clustering[[cluster_i, cluster_j]] = clustering[merged_index]\n",
    "    return clustering[:N]\n",
    "# clustering = get_clustering_from_dendrogram(dendrogram, 5, 5)\n",
    "# print(np.unique(clustering, return_counts=True))\n",
    "# clustering"
   ]
  },
  {
   "cell_type": "code",
   "execution_count": 5,
   "id": "6a125777",
   "metadata": {},
   "outputs": [],
   "source": [
    "def ARI_score(path1, path2):\n",
    "        with h5py.File(path1, \"r\") as f:\n",
    "                dendro1 = f['dendrogram'][:]\n",
    "        dendro1 = [[int(l), int(r), float(d), int(s)] for l, r, d, s in dendro1]\n",
    "\n",
    "        dendro1 = elki_sort_dendrogram(dendro1)\n",
    "        k = find_cut(dendro1)\n",
    "        print(k)\n",
    "        C1 = get_clustering_from_dendrogram(dendro1, k)\n",
    "\n",
    "        with h5py.File(path2, \"r\") as f:\n",
    "                dendro2 = f['dendrogram'][:]\n",
    "        dendro2 = [[int(l), int(r), float(d), int(s)] for l, r, d, s in dendro2]\n",
    "\n",
    "        dendro2 = elki_sort_dendrogram(dendro2)\n",
    "        C2 = get_clustering_from_dendrogram(dendro2, k)\n",
    "\n",
    "        # len([v for v in C if v == 3])\n",
    "\n",
    "        return adjusted_rand_score(C1, C2)"
   ]
  },
  {
   "cell_type": "code",
   "execution_count": 6,
   "id": "b83e9b6c",
   "metadata": {},
   "outputs": [
    {
     "name": "stdout",
     "output_type": "stream",
     "text": [
      "4\n"
     ]
    },
    {
     "data": {
      "text/plain": [
       "1.0"
      ]
     },
     "execution_count": 6,
     "metadata": {},
     "output_type": "execute_result"
    }
   ],
   "source": [
    "p1 = r'results\\blobs-2k-10-5\\HNSWhssl\\20_100_20.hdf5'\n",
    "p2 = r'results\\blobs-2k-10-5\\VPTreehssl\\run.hdf5'\n",
    "\n",
    "ARI_score(p1, p2)"
   ]
  },
  {
   "cell_type": "code",
   "execution_count": 15,
   "id": "8614372b",
   "metadata": {},
   "outputs": [
    {
     "data": {
      "text/html": [
       "<div>\n",
       "<style scoped>\n",
       "    .dataframe tbody tr th:only-of-type {\n",
       "        vertical-align: middle;\n",
       "    }\n",
       "\n",
       "    .dataframe tbody tr th {\n",
       "        vertical-align: top;\n",
       "    }\n",
       "\n",
       "    .dataframe thead th {\n",
       "        text-align: right;\n",
       "    }\n",
       "</style>\n",
       "<table border=\"1\" class=\"dataframe\">\n",
       "  <thead>\n",
       "    <tr style=\"text-align: right;\">\n",
       "      <th></th>\n",
       "      <th>algo</th>\n",
       "      <th>time</th>\n",
       "      <th>n</th>\n",
       "    </tr>\n",
       "  </thead>\n",
       "  <tbody>\n",
       "    <tr>\n",
       "      <th>0</th>\n",
       "      <td>HNSWhssl</td>\n",
       "      <td>9.556253</td>\n",
       "      <td>2000</td>\n",
       "    </tr>\n",
       "    <tr>\n",
       "      <th>1</th>\n",
       "      <td>VPTreehssl</td>\n",
       "      <td>11.759518</td>\n",
       "      <td>2000</td>\n",
       "    </tr>\n",
       "    <tr>\n",
       "      <th>2</th>\n",
       "      <td>HNSWhssl</td>\n",
       "      <td>26.040185</td>\n",
       "      <td>4000</td>\n",
       "    </tr>\n",
       "    <tr>\n",
       "      <th>3</th>\n",
       "      <td>VPTreehssl</td>\n",
       "      <td>39.756002</td>\n",
       "      <td>4000</td>\n",
       "    </tr>\n",
       "    <tr>\n",
       "      <th>4</th>\n",
       "      <td>HNSWhssl</td>\n",
       "      <td>70.818391</td>\n",
       "      <td>8000</td>\n",
       "    </tr>\n",
       "    <tr>\n",
       "      <th>5</th>\n",
       "      <td>HNSWhssl</td>\n",
       "      <td>163.716051</td>\n",
       "      <td>16000</td>\n",
       "    </tr>\n",
       "  </tbody>\n",
       "</table>\n",
       "</div>"
      ],
      "text/plain": [
       "         algo        time      n\n",
       "0    HNSWhssl    9.556253   2000\n",
       "1  VPTreehssl   11.759518   2000\n",
       "2    HNSWhssl   26.040185   4000\n",
       "3  VPTreehssl   39.756002   4000\n",
       "4    HNSWhssl   70.818391   8000\n",
       "5    HNSWhssl  163.716051  16000"
      ]
     },
     "execution_count": 15,
     "metadata": {},
     "output_type": "execute_result"
    }
   ],
   "source": [
    "from benchmark.results import load_all_results\n",
    "\n",
    "datasets = ['blobs-2k-10-5',\n",
    "            'blobs-4k-10-5',\n",
    "            'blobs-8k-10-5',\n",
    "            'blobs-16k-10-5'\n",
    "            # 'mnist'\n",
    "            ]\n",
    "\n",
    "data = []\n",
    "\n",
    "# load all the results that are available for the dataset\n",
    "for S in datasets:\n",
    "    for f in load_all_results(S, \"\"):\n",
    "        if f.attrs['algo'] != \"sklearn\":\n",
    "            data.append({\n",
    "                \"algo\": f.attrs['algo'],\n",
    "                \"time\": f.attrs['time'],\n",
    "                \"n\": len(f[\"dendrogram\"][:]) + 1\n",
    "                })\n",
    "\n",
    "df = pd.DataFrame(data=data)\n",
    "df"
   ]
  },
  {
   "cell_type": "code",
   "execution_count": 16,
   "id": "85f7c9cb",
   "metadata": {},
   "outputs": [],
   "source": [
    "import traceback\n",
    "import os\n",
    "from typing import Any, Optional, Set, Tuple, Iterator\n",
    "\n",
    "def build_result_filepath(dataset_name: Optional[str] = None, \n",
    "                          eps: Optional[float] = None,\n",
    "                          minPts: Optional[int] = None,\n",
    "                          algorithm: Optional[any] = None,\n",
    "                          arguments: Optional[Any] = None) -> str:\n",
    "    d = [\"results\"]\n",
    "    if dataset_name:\n",
    "        d.append(dataset_name)\n",
    "    if eps:\n",
    "        d.append(str(eps))\n",
    "    if minPts:\n",
    "        d.append(str(minPts))\n",
    "    if algorithm:\n",
    "        d.append(algorithm)\n",
    "        #data = definition.arguments + query_arguments\n",
    "        #d.append(re.sub(r\"\\W+\", \"_\", json.dumps(data, sort_keys=True)).strip(\"_\") + \".hdf5\")\n",
    "        if arguments:\n",
    "            d.append(arguments+\".hdf5\")\n",
    "        else:\n",
    "            d.append(\"run.hdf5\")\n",
    "    return os.path.join(*d)\n",
    "\n",
    "def load_all_results(dataset: Optional[str] = None, prefix: str = \".\") -> Iterator[Tuple[h5py.File]]:\n",
    "    for root, _, files in os.walk(os.path.join(prefix, build_result_filepath(dataset))):\n",
    "        for filename in files:\n",
    "            if os.path.splitext(filename)[-1] != \".hdf5\":\n",
    "                continue\n",
    "            try:\n",
    "                with h5py.File(os.path.join(root, filename), \"r+\") as f:\n",
    "                    yield f\n",
    "            except Exception:\n",
    "                print(f\"Was unable to read {filename}\")\n",
    "                traceback.print_exc()"
   ]
  },
  {
   "cell_type": "code",
   "execution_count": 17,
   "id": "831ebd8b",
   "metadata": {},
   "outputs": [
    {
     "data": {
      "image/png": "[encoded data removed]",
      "text/plain": [
       "<Figure size 640x480 with 1 Axes>"
      ]
     },
     "metadata": {},
     "output_type": "display_data"
    }
   ],
   "source": [
    "import seaborn as sns\n",
    "from scipy.stats import linregress\n",
    "from scipy.optimize import minimize\n",
    "\n",
    "plot_df = df.copy()\n",
    "fit_xs = df[df[\"algo\"]==\"VPTreehssl\"][\"n\"].to_numpy()\n",
    "fit_ys = df[df[\"algo\"]==\"VPTreehssl\"][\"time\"].to_numpy()\n",
    "sel = np.argsort(fit_xs)[:]\n",
    "fit_model = linregress(np.log(fit_xs[sel]),np.log(fit_ys[sel]))\n",
    "plot_df = pd.concat([plot_df, pd.DataFrame([\n",
    "    [f\"HSSL_Turbo_fit (t(n)=c*n^{fit_model.slope:.2f})\", x**fit_model.slope * np.exp(fit_model.intercept), x]\n",
    "    for x in fit_xs\n",
    "], columns=plot_df.columns)], axis=0)\n",
    "\n",
    "def poly_log_fit(x, params):\n",
    "    a, b, c = params\n",
    "    return a*x**b*np.log(x)**c\n",
    "def poly_log_fit_opt(x,y):\n",
    "    def target(params):\n",
    "        return np.sum(np.square(np.log(poly_log_fit(x,params))-np.log(y)))\n",
    "    result = minimize(target, np.array([y[0]/x[0],1,0]), bounds=[\n",
    "        (1e-20, 1e2*y[0]/x[0]),\n",
    "        (1, 3),\n",
    "        (0, 4)\n",
    "    ])\n",
    "    return result.x, result.fun\n",
    "fit_xs = df[df[\"algo\"]==\"HNSWhssl\"][\"n\"].to_numpy()\n",
    "fit_ys = df[df[\"algo\"]==\"HNSWhssl\"][\"time\"].to_numpy()\n",
    "sel = np.argsort(fit_xs)[:]\n",
    "model_params, score = poly_log_fit_opt(fit_xs[sel], fit_ys[sel])\n",
    "# print(model_params, score)\n",
    "plot_df = pd.concat([plot_df, pd.DataFrame([\n",
    "    [f\"HNSW_HSSL_fit (t(n)=c*n^{model_params[1]:.2f}*log(n)^{model_params[2]:.2f})\", poly_log_fit(x, model_params), x]\n",
    "    for x in fit_xs\n",
    "], columns=plot_df.columns)], axis=0)\n",
    "\n",
    "\n",
    "ax = sns.lineplot(data=plot_df, x='n', y='time', hue=\"algo\", marker='o', palette=\"colorblind\")\n",
    "ax.set_title('Blobs dataset')\n",
    "ax.set_xlabel('dataset size (n)')\n",
    "ax.set_ylabel('time [s]')\n",
    "ax.set_xscale(\"log\")\n",
    "ax.set_yscale(\"log\")\n",
    "\n",
    "# Set gridlines and ticks\n",
    "# x_log_min = np.log10(min(times['eps']))\n",
    "# x_log_max = np.log10(max(times['eps']))\n",
    "# xticks = np.logspace(x_log_min, x_log_max, num = 7)\n",
    "# xticks = [round(x, 1) for x in xticks]\n",
    "# y_log_min = np.log10(min(times['time']))\n",
    "# y_log_max = np.log10(max(times['time']))\n",
    "# yticks = np.logspace(y_log_min, y_log_max, num = 5)\n",
    "# yticks = [int(x) for x in yticks]\n",
    "# ax.set_xticks(xticks)\n",
    "# ax.set_xticklabels(xticks)\n",
    "# ax.set_yticks(yticks)\n",
    "# ax.set_yticklabels(yticks)"
   ]
  },
  {
   "cell_type": "code",
   "execution_count": 10,
   "id": "41e28372",
   "metadata": {},
   "outputs": [
    {
     "name": "stdout",
     "output_type": "stream",
     "text": [
      "['dendrogram']\n"
     ]
    },
    {
     "data": {
      "text/plain": [
       "array([[4.02000000e+02, 1.61000000e+03, 8.18828821e-01, 2.00000000e+00],\n",
       "       [2.38200000e+03, 3.13600000e+03, 8.45468819e-01, 2.00000000e+00],\n",
       "       [2.57400000e+03, 3.49800000e+03, 8.83502901e-01, 2.00000000e+00],\n",
       "       ...,\n",
       "       [7.99200000e+03, 7.98400000e+03, 1.25030994e+01, 1.60000000e+03],\n",
       "       [7.99000000e+03, 7.99600000e+03, 1.49323864e+01, 2.40000000e+03],\n",
       "       [7.99700000e+03, 7.99500000e+03, 1.89432869e+01, 4.00000000e+03]])"
      ]
     },
     "execution_count": 10,
     "metadata": {},
     "output_type": "execute_result"
    }
   ],
   "source": [
    "path = r'results\\blobs-4k-10-5\\VPTreehssl\\run.hdf5'\n",
    "# path = 'results/iris/HSSL_Turbo/dendro.hdf5'\n",
    "\n",
    "with h5py.File(path, 'r') as f:\n",
    "    print(list(f.keys()))\n",
    "    C = f['dendrogram'][:]\n",
    "\n",
    "C"
   ]
  },
  {
   "cell_type": "code",
   "execution_count": 11,
   "id": "cc8089be",
   "metadata": {},
   "outputs": [
    {
     "name": "stdout",
     "output_type": "stream",
     "text": [
      "['data', 'dendrogram']\n",
      "[[1610  402]\n",
      " [3136 2382]\n",
      " [2574 3498]\n",
      " ...\n",
      " [7992 7984]\n",
      " [7996 7990]\n",
      " [7997 7995]]\n"
     ]
    }
   ],
   "source": [
    "path = r'data\\blobs-4k-10-5.hdf5'\n",
    "\n",
    "with h5py.File(path, 'r') as f:\n",
    "    print(list(f.keys()))\n",
    "    print(f['dendrogram'][:])"
   ]
  }
 ],
 "metadata": {
  "kernelspec": {
   "display_name": "HSSL",
   "language": "python",
   "name": "python3"
  },
  "language_info": {
   "codemirror_mode": {
    "name": "ipython",
    "version": 3
   },
   "file_extension": ".py",
   "mimetype": "text/x-python",
   "name": "python",
   "nbconvert_exporter": "python",
   "pygments_lexer": "ipython3",
   "version": "3.11.11"
  }
 },
 "nbformat": 4,
 "nbformat_minor": 5
}
