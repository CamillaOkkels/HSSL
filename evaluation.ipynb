{
 "cells": [
  {
   "cell_type": "code",
   "execution_count": 1,
   "id": "0463c425",
   "metadata": {},
   "outputs": [],
   "source": [
    "import pandas as pd\n",
    "from HSSL import *\n",
    "from sklearn.metrics import adjusted_rand_score, normalized_mutual_info_score"
   ]
  },
  {
   "cell_type": "code",
   "execution_count": null,
   "id": "d84026b5",
   "metadata": {},
   "outputs": [],
   "source": [
    "def find_cut(dendrogram):\n",
    "\n",
    "    distances = [d[2] for d in dendrogram]\n",
    "    distances.sort(reverse=True)\n",
    "    \n",
    "    max_jump = 0\n",
    "    for i in range(len(distances) - 1):\n",
    "        d = distances[i] - distances[i + 1]\n",
    "\n",
    "        if d > max_jump:\n",
    "            max_jump = d\n",
    "            index = i\n",
    "    \n",
    "    return index + 1"
   ]
  },
  {
   "cell_type": "code",
   "execution_count": 3,
   "id": "9fdc4ad0",
   "metadata": {},
   "outputs": [],
   "source": [
    "def get_clustering_from_dendrogram(dendrogram, k, min_cluster_size=1):\n",
    "    # roundup_fix_dendrogram(dendrogram)\n",
    "    N = len(dendrogram) + 1\n",
    "    clustering = -np.ones(N+len(dendrogram), dtype=int)\n",
    "    merge_distance_order = np.argsort([v[2] for v in dendrogram], kind=\"stable\")\n",
    "    final_clusters = set([2*N-2])\n",
    "    i = len(merge_distance_order)-1\n",
    "    while len(final_clusters) < k:\n",
    "        final_clusters.remove(N+i)\n",
    "        l,r = dendrogram[merge_distance_order[i]][:2]\n",
    "        l_size = 1 if l<N else dendrogram[l-N][3]\n",
    "        r_size = 1 if r<N else dendrogram[r-N][3]\n",
    "        if l_size >= min_cluster_size: final_clusters.add(l)\n",
    "        if r_size >= min_cluster_size: final_clusters.add(r)\n",
    "        i -= 1\n",
    "    final_clusters = np.sort([*final_clusters])\n",
    "    for i,c in enumerate(final_clusters): clustering[c] = i\n",
    "    for merged_index_diff, (cluster_i, cluster_j, _, _) in enumerate(reversed(dendrogram)):\n",
    "        merged_index = N + len(dendrogram) - merged_index_diff - 1\n",
    "        if merged_index > final_clusters[-1]: continue\n",
    "        clustering[[cluster_i, cluster_j]] = clustering[merged_index]\n",
    "    return clustering[:N]\n",
    "# clustering = get_clustering_from_dendrogram(dendrogram, 5, 5)\n",
    "# print(np.unique(clustering, return_counts=True))\n",
    "# clustering"
   ]
  },
  {
   "cell_type": "code",
   "execution_count": 4,
   "id": "6a125777",
   "metadata": {},
   "outputs": [],
   "source": [
    "def ARI_score(path1, path2):\n",
    "        with h5py.File(path1, \"r\") as f:\n",
    "                dendro1 = f['dendrogram_data'][:]\n",
    "        dendro1 = [[int(l), int(r), float(d), int(s)] for l, r, d, s in dendro1]\n",
    "\n",
    "        dendro1 = elki_sort_dendrogram(dendro1)\n",
    "        k = find_cut(dendro1)\n",
    "        print(k)\n",
    "        C1 = get_clustering_from_dendrogram(dendro1, k)\n",
    "\n",
    "        with h5py.File(path2, \"r\") as f:\n",
    "                dendro2 = f['dendrogram_data'][:]\n",
    "        dendro2 = [[int(l), int(r), float(d), int(s)] for l, r, d, s in dendro2]\n",
    "\n",
    "        dendro2 = elki_sort_dendrogram(dendro2)\n",
    "        C2 = get_clustering_from_dendrogram(dendro2, k)\n",
    "\n",
    "        # len([v for v in C if v == 3])\n",
    "\n",
    "        return adjusted_rand_score(C1, C2)"
   ]
  },
  {
   "cell_type": "code",
   "execution_count": 5,
   "id": "b83e9b6c",
   "metadata": {},
   "outputs": [
    {
     "name": "stdout",
     "output_type": "stream",
     "text": [
      "5\n"
     ]
    },
    {
     "data": {
      "text/plain": [
       "0.782488191995628"
      ]
     },
     "execution_count": 5,
     "metadata": {},
     "output_type": "execute_result"
    }
   ],
   "source": [
    "p1 = 'results/blobs_n=8000_centers=5/HNSW_HSSL/dendro.hdf5'\n",
    "p2 = 'results/blobs_n=8000_centers=5/HSSL_Turbo/dendro.hdf5'\n",
    "\n",
    "ARI_score(p1, p2)"
   ]
  },
  {
   "cell_type": "code",
   "execution_count": 6,
   "id": "85f7c9cb",
   "metadata": {},
   "outputs": [],
   "source": [
    "import traceback\n",
    "import os\n",
    "from typing import Any, Optional, Set, Tuple, Iterator\n",
    "\n",
    "def build_result_filepath(dataset_name: Optional[str] = None, \n",
    "                          eps: Optional[float] = None,\n",
    "                          minPts: Optional[int] = None,\n",
    "                          algorithm: Optional[any] = None,\n",
    "                          arguments: Optional[Any] = None) -> str:\n",
    "    d = [\"results\"]\n",
    "    if dataset_name:\n",
    "        d.append(dataset_name)\n",
    "    if eps:\n",
    "        d.append(str(eps))\n",
    "    if minPts:\n",
    "        d.append(str(minPts))\n",
    "    if algorithm:\n",
    "        d.append(algorithm)\n",
    "        #data = definition.arguments + query_arguments\n",
    "        #d.append(re.sub(r\"\\W+\", \"_\", json.dumps(data, sort_keys=True)).strip(\"_\") + \".hdf5\")\n",
    "        if arguments:\n",
    "            d.append(arguments+\".hdf5\")\n",
    "        else:\n",
    "            d.append(\"run.hdf5\")\n",
    "    return os.path.join(*d)\n",
    "\n",
    "def load_all_results(dataset: Optional[str] = None, prefix: str = \".\") -> Iterator[Tuple[h5py.File]]:\n",
    "    for root, _, files in os.walk(os.path.join(prefix, build_result_filepath(dataset))):\n",
    "        for filename in files:\n",
    "            if os.path.splitext(filename)[-1] != \".hdf5\":\n",
    "                continue\n",
    "            try:\n",
    "                with h5py.File(os.path.join(root, filename), \"r+\") as f:\n",
    "                    yield f\n",
    "            except Exception:\n",
    "                print(f\"Was unable to read {filename}\")\n",
    "                traceback.print_exc()"
   ]
  },
  {
   "cell_type": "code",
   "execution_count": 7,
   "id": "8614372b",
   "metadata": {},
   "outputs": [
    {
     "data": {
      "text/html": [
       "<div>\n",
       "<style scoped>\n",
       "    .dataframe tbody tr th:only-of-type {\n",
       "        vertical-align: middle;\n",
       "    }\n",
       "\n",
       "    .dataframe tbody tr th {\n",
       "        vertical-align: top;\n",
       "    }\n",
       "\n",
       "    .dataframe thead th {\n",
       "        text-align: right;\n",
       "    }\n",
       "</style>\n",
       "<table border=\"1\" class=\"dataframe\">\n",
       "  <thead>\n",
       "    <tr style=\"text-align: right;\">\n",
       "      <th></th>\n",
       "      <th>algo</th>\n",
       "      <th>time</th>\n",
       "      <th>n</th>\n",
       "    </tr>\n",
       "  </thead>\n",
       "  <tbody>\n",
       "    <tr>\n",
       "      <th>0</th>\n",
       "      <td>HNSW_HSSL</td>\n",
       "      <td>12.242057</td>\n",
       "      <td>2000</td>\n",
       "    </tr>\n",
       "    <tr>\n",
       "      <th>1</th>\n",
       "      <td>HSSL_Turbo</td>\n",
       "      <td>12.186026</td>\n",
       "      <td>2000</td>\n",
       "    </tr>\n",
       "    <tr>\n",
       "      <th>2</th>\n",
       "      <td>HNSW_HSSL</td>\n",
       "      <td>24.735461</td>\n",
       "      <td>4000</td>\n",
       "    </tr>\n",
       "    <tr>\n",
       "      <th>3</th>\n",
       "      <td>HSSL_Turbo</td>\n",
       "      <td>43.004570</td>\n",
       "      <td>4000</td>\n",
       "    </tr>\n",
       "    <tr>\n",
       "      <th>4</th>\n",
       "      <td>HNSW_HSSL</td>\n",
       "      <td>65.565953</td>\n",
       "      <td>8000</td>\n",
       "    </tr>\n",
       "    <tr>\n",
       "      <th>5</th>\n",
       "      <td>HSSL_Turbo</td>\n",
       "      <td>166.924440</td>\n",
       "      <td>8000</td>\n",
       "    </tr>\n",
       "    <tr>\n",
       "      <th>6</th>\n",
       "      <td>HNSW_HSSL</td>\n",
       "      <td>167.496854</td>\n",
       "      <td>16000</td>\n",
       "    </tr>\n",
       "    <tr>\n",
       "      <th>7</th>\n",
       "      <td>HSSL_Turbo</td>\n",
       "      <td>751.138710</td>\n",
       "      <td>16000</td>\n",
       "    </tr>\n",
       "    <tr>\n",
       "      <th>8</th>\n",
       "      <td>HNSW_HSSL</td>\n",
       "      <td>465.742020</td>\n",
       "      <td>32000</td>\n",
       "    </tr>\n",
       "    <tr>\n",
       "      <th>9</th>\n",
       "      <td>HSSL_Turbo</td>\n",
       "      <td>3802.269429</td>\n",
       "      <td>32000</td>\n",
       "    </tr>\n",
       "    <tr>\n",
       "      <th>10</th>\n",
       "      <td>HNSW_HSSL</td>\n",
       "      <td>961.165859</td>\n",
       "      <td>64000</td>\n",
       "    </tr>\n",
       "    <tr>\n",
       "      <th>11</th>\n",
       "      <td>HNSW_HSSL</td>\n",
       "      <td>4742.412334</td>\n",
       "      <td>128000</td>\n",
       "    </tr>\n",
       "  </tbody>\n",
       "</table>\n",
       "</div>"
      ],
      "text/plain": [
       "          algo         time       n\n",
       "0    HNSW_HSSL    12.242057    2000\n",
       "1   HSSL_Turbo    12.186026    2000\n",
       "2    HNSW_HSSL    24.735461    4000\n",
       "3   HSSL_Turbo    43.004570    4000\n",
       "4    HNSW_HSSL    65.565953    8000\n",
       "5   HSSL_Turbo   166.924440    8000\n",
       "6    HNSW_HSSL   167.496854   16000\n",
       "7   HSSL_Turbo   751.138710   16000\n",
       "8    HNSW_HSSL   465.742020   32000\n",
       "9   HSSL_Turbo  3802.269429   32000\n",
       "10   HNSW_HSSL   961.165859   64000\n",
       "11   HNSW_HSSL  4742.412334  128000"
      ]
     },
     "execution_count": 7,
     "metadata": {},
     "output_type": "execute_result"
    }
   ],
   "source": [
    "datasets = ['blobs_n=2000_centers=5',\n",
    "            'blobs_n=4000_centers=5',\n",
    "            'blobs_n=8000_centers=5',\n",
    "            'blobs_n=16000_centers=5',\n",
    "            'blobs_n=32000_centers=5',\n",
    "            'blobs_n=64000_centers=5',\n",
    "            'blobs_n=128000_centers=5',\n",
    "            # 'cancer', \n",
    "            # 'iris', \n",
    "            # 'wine',\n",
    "            # 'mnist'\n",
    "            ]\n",
    "\n",
    "data = []\n",
    "\n",
    "# load all the results that are available for the dataset\n",
    "for S in datasets:\n",
    "    for f in load_all_results(S, \"\"):\n",
    "        data.append({\n",
    "            \"algo\": f['algo'][0].decode(), \n",
    "            \"time\": f['time'][0], \n",
    "            \"n\": f['n'][0]\n",
    "            })\n",
    "\n",
    "df = pd.DataFrame(data=data)\n",
    "df"
   ]
  },
  {
   "cell_type": "code",
   "execution_count": 8,
   "id": "831ebd8b",
   "metadata": {},
   "outputs": [
    {
     "data": {
      "image/png": "[encoded data removed]",
      "text/plain": [
       "<Figure size 640x480 with 1 Axes>"
      ]
     },
     "metadata": {},
     "output_type": "display_data"
    }
   ],
   "source": [
    "import seaborn as sns\n",
    "from scipy.stats import linregress\n",
    "from scipy.optimize import minimize\n",
    "\n",
    "plot_df = df.copy()\n",
    "fit_xs = df[df[\"algo\"]==\"HSSL_Turbo\"][\"n\"].to_numpy()\n",
    "fit_ys = df[df[\"algo\"]==\"HSSL_Turbo\"][\"time\"].to_numpy()\n",
    "sel = np.argsort(fit_xs)[:]\n",
    "fit_model = linregress(np.log(fit_xs[sel]),np.log(fit_ys[sel]))\n",
    "plot_df = pd.concat([plot_df, pd.DataFrame([\n",
    "    [f\"HSSL_Turbo_fit (t(n)=c*n^{fit_model.slope:.2f})\", x**fit_model.slope * np.exp(fit_model.intercept), x]\n",
    "    for x in fit_xs\n",
    "], columns=plot_df.columns)], axis=0)\n",
    "\n",
    "def poly_log_fit(x, params):\n",
    "    a,b,c = params\n",
    "    return a*x**b*np.log(x)**c\n",
    "def poly_log_fit_opt(x,y):\n",
    "    def target(params):\n",
    "        return np.sum(np.square(np.log(poly_log_fit(x,params))-np.log(y)))\n",
    "    result = minimize(target, np.array([y[0]/x[0],1,0]), bounds=[\n",
    "        (1e-20, 1e2*y[0]/x[0]),\n",
    "        (1, 3),\n",
    "        (0, 4)\n",
    "    ])\n",
    "    return result.x, result.fun\n",
    "fit_xs = df[df[\"algo\"]==\"HNSW_HSSL\"][\"n\"].to_numpy()\n",
    "fit_ys = df[df[\"algo\"]==\"HNSW_HSSL\"][\"time\"].to_numpy()\n",
    "sel = np.argsort(fit_xs)[:]\n",
    "model_params, score = poly_log_fit_opt(fit_xs[sel],fit_ys[sel])\n",
    "# print(model_params, score)\n",
    "plot_df = pd.concat([plot_df, pd.DataFrame([\n",
    "    [f\"HNSW_HSSL_fit (t(n)=c*n^{model_params[1]:.2f}*log(n)^{model_params[2]:.2f})\", poly_log_fit(x,model_params), x]\n",
    "    for x in fit_xs\n",
    "], columns=plot_df.columns)], axis=0)\n",
    "\n",
    "\n",
    "ax = sns.lineplot(data=plot_df, x='n', y='time', hue=\"algo\", marker='o', palette=\"colorblind\")\n",
    "ax.set_title('Blobs dataset')\n",
    "ax.set_xlabel('dataset size (n)')\n",
    "ax.set_ylabel('time [s]')\n",
    "ax.set_xscale(\"log\")\n",
    "ax.set_yscale(\"log\")\n",
    "\n",
    "# Set gridlines and ticks\n",
    "# x_log_min = np.log10(min(times['eps']))\n",
    "# x_log_max = np.log10(max(times['eps']))\n",
    "# xticks = np.logspace(x_log_min, x_log_max, num = 7)\n",
    "# xticks = [round(x, 1) for x in xticks]\n",
    "# y_log_min = np.log10(min(times['time']))\n",
    "# y_log_max = np.log10(max(times['time']))\n",
    "# yticks = np.logspace(y_log_min, y_log_max, num = 5)\n",
    "# yticks = [int(x) for x in yticks]\n",
    "# ax.set_xticks(xticks)\n",
    "# ax.set_xticklabels(xticks)\n",
    "# ax.set_yticks(yticks)\n",
    "# ax.set_yticklabels(yticks)"
   ]
  },
  {
   "cell_type": "code",
   "execution_count": 9,
   "id": "3e34a962",
   "metadata": {},
   "outputs": [
    {
     "name": "stdout",
     "output_type": "stream",
     "text": [
      "<KeysViewHDF5 ['algo', 'dendrogram_data', 'n', 'time']>\n",
      "<KeysViewHDF5 ['algo', 'dendrogram_data', 'n', 'time']>\n",
      "<KeysViewHDF5 ['algo', 'dendrogram_data', 'n', 'time']>\n",
      "<KeysViewHDF5 ['algo', 'dendrogram_data', 'n', 'time']>\n"
     ]
    }
   ],
   "source": [
    "dataset = ['wine', 'iris']\n",
    "\n",
    "# load all the results that are available for the dataset\n",
    "for S in dataset:\n",
    "    for f in load_all_results(S, \"\"):\n",
    "        print(f.keys())"
   ]
  },
  {
   "cell_type": "code",
   "execution_count": null,
   "id": "41e28372",
   "metadata": {},
   "outputs": [
    {
     "name": "stdout",
     "output_type": "stream",
     "text": [
      "['algo', 'dendrogram_data', 'n', 'time']\n",
      "7999 7999\n"
     ]
    }
   ],
   "source": [
    "path = 'results/blobs_n=2000_centers=5/HSSL_Turbo/dendro.hdf5'\n",
    "# path = 'results/iris/HSSL_Turbo/dendro.hdf5'\n",
    "\n",
    "with h5py.File(path, 'r') as f:\n",
    "    print(list(f.keys()))\n",
    "    print(len(f['dendrogram_data']), f['n'][0] - 1)"
   ]
  },
  {
   "cell_type": "code",
   "execution_count": 11,
   "id": "cc8089be",
   "metadata": {},
   "outputs": [
    {
     "name": "stdout",
     "output_type": "stream",
     "text": [
      "['data']\n",
      "2000\n"
     ]
    }
   ],
   "source": [
    "path = 'datasets/blobs_n=2000_centers=5.hdf5'\n",
    "\n",
    "with h5py.File(path, 'r') as f:\n",
    "    print(list(f.keys()))\n",
    "    print(len(f['data'][:]))"
   ]
  }
 ],
 "metadata": {
  "kernelspec": {
   "display_name": "HSSL",
   "language": "python",
   "name": "python3"
  },
  "language_info": {
   "codemirror_mode": {
    "name": "ipython",
    "version": 3
   },
   "file_extension": ".py",
   "mimetype": "text/x-python",
   "name": "python",
   "nbconvert_exporter": "python",
   "pygments_lexer": "ipython3",
   "version": "3.11.11"
  }
 },
 "nbformat": 4,
 "nbformat_minor": 5
}
